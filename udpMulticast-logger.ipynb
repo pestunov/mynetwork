{
 "cells": [
  {
   "cell_type": "code",
   "execution_count": null,
   "id": "572d1566-4ba2-4efd-9fa9-86693b853279",
   "metadata": {
    "tags": []
   },
   "outputs": [],
   "source": [
    "import socket\n",
    "import time\n",
    "import re\n",
    "import mytools\n",
    "import numpy as np"
   ]
  },
  {
   "cell_type": "code",
   "execution_count": null,
   "id": "36a99e02-a29d-4c03-9eeb-0efd37169c76",
   "metadata": {
    "tags": []
   },
   "outputs": [],
   "source": [
    "s = socket.socket(socket.AF_INET, socket.SOCK_DGRAM)\n",
    "s.setsockopt(socket.SOL_SOCKET, socket.SO_REUSEADDR, 1)\n",
    "s.bind(('', 1234))\n",
    "s.settimeout(5)"
   ]
  },
  {
   "cell_type": "code",
   "execution_count": null,
   "id": "4be730f3-61ce-4f14-b554-edd6dd37c969",
   "metadata": {
    "tags": []
   },
   "outputs": [],
   "source": [
    "s.send("
   ]
  },
  {
   "cell_type": "code",
   "execution_count": null,
   "id": "d87e40c4-1670-41c9-ae81-bc1a9fc57a70",
   "metadata": {
    "tags": []
   },
   "outputs": [],
   "source": [
    "data = {}\n",
    "cycleNum = 0\n",
    "cycle = True\n",
    "\n",
    "# UDP attemption\n",
    "ltime_tm_min_prev = 61;\n",
    "while cycle:\n",
    "    try:\n",
    "        message, address = s.recvfrom(1024)\n",
    "        message = str(message)\n",
    "        message = re.sub(r'^(b\\')', '', message)\n",
    "        message = re.sub(r'[\\r\\n\\']', '', message, 0, re.MULTILINE)\n",
    "        message_list = re.split(';', message)#, maxsplit=0)\n",
    "        for message in message_list:\n",
    "            message = re.split('=', message)#, maxsplit=0)\n",
    "            if len(message) == 2:\n",
    "                mkey = message[0].strip()\n",
    "                mval = message[1]\n",
    "                mval = re.sub(r'[^0-9\\.,\\-]', '', mval)\n",
    "                mval = mval.replace(',', '.') \n",
    "                mval = float(mval)\n",
    "                if mkey not in data.keys():\n",
    "                    data[mkey] = []\n",
    "                    print('*',sep='',end='')\n",
    "                else:\n",
    "                    print('.',sep='',end='')\n",
    "                    pass\n",
    "                data[mkey].append(mval)\n",
    "    except (TimeoutError):\n",
    "        print('?',sep='',end='')\n",
    "\n",
    "    ltime = time.localtime()\n",
    "    if ltime.tm_min in [x for x in range(0, 60, 1)] and ltime.tm_min != ltime_tm_min_prev:\n",
    "        ltime_tm_min_prev = ltime.tm_min\n",
    "        data_d = {}\n",
    "        for key, mas in data.items():\n",
    "            a = np.array(mas)\n",
    "            data_d[key] = a.mean()\n",
    "            data_d[key+'_err'] = a.std()\n",
    "        data_d['DateTime'] = time.strftime('%d.%m.%Y %H:%M:%S', time.localtime())\n",
    "        print(data_d)\n",
    "        link = mytools.connectBase(**sql_param_dict)\n",
    "        cursor = link.cursor()\n",
    "\n",
    "        mytools.writeDictToDB(myDict=data_d,\n",
    "                              cursor=cursor,\n",
    "                              baseName='baikal',\n",
    "                              tableName=season)\n",
    "\n",
    "        link.close()\n",
    "        time.sleep(1.001)\n",
    "        data = {}\n",
    "\n",
    "s.close()"
   ]
  },
  {
   "cell_type": "code",
   "execution_count": null,
   "id": "f18ee83d-4d09-4798-886f-76a447a3b08b",
   "metadata": {
    "tags": []
   },
   "outputs": [],
   "source": [
    "s.close()"
   ]
  },
  {
   "cell_type": "code",
   "execution_count": null,
   "id": "b7c03f99-8e15-4403-97a1-b81bbb02dbfb",
   "metadata": {},
   "outputs": [],
   "source": []
  }
 ],
 "metadata": {
  "kernelspec": {
   "display_name": "Python 3 (ipykernel)",
   "language": "python",
   "name": "python3"
  },
  "language_info": {
   "codemirror_mode": {
    "name": "ipython",
    "version": 3
   },
   "file_extension": ".py",
   "mimetype": "text/x-python",
   "name": "python",
   "nbconvert_exporter": "python",
   "pygments_lexer": "ipython3",
   "version": "3.11.2"
  }
 },
 "nbformat": 4,
 "nbformat_minor": 5
}
