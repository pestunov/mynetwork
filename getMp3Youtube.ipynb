{
 "cells": [
  {
   "cell_type": "code",
   "execution_count": 1,
   "id": "17daf619-c639-414f-89b2-acdf0313a2ff",
   "metadata": {
    "tags": []
   },
   "outputs": [],
   "source": [
    "import pytube\n",
    "from moviepy.editor import VideoFileClip\n",
    "import json"
   ]
  },
  {
   "cell_type": "code",
   "execution_count": 2,
   "id": "e5701e8e-cf7e-4564-84f2-69a687e57d81",
   "metadata": {
    "tags": []
   },
   "outputs": [],
   "source": [
    "def convert2mp3(mp4file, mp3file):\n",
    "    video=VideoFileClip(mp4file)\n",
    "    # получаем аудиодорожку\n",
    "    audio=video.audio\n",
    "    # сохраняем аудио файл\n",
    "    audio.write_audiofile(mp3file)\n",
    "    # уничтожаем объекты \n",
    "    # что бы не было ошибок\n",
    "    audio.close()\n",
    "    video.close()"
   ]
  },
  {
   "cell_type": "code",
   "execution_count": 7,
   "id": "6f4a69d3-432f-490a-a1fb-71c78cdd6247",
   "metadata": {
    "tags": []
   },
   "outputs": [],
   "source": [
    "url_list = [#\"https://www.youtube.com/watch?v=KCZy5PWms70\",  # poker face - sped up\n",
    "            #\"https://www.youtube.com/watch?v=zj42VxE9k2Q\",  # WHOKILLEDXIX - CUM (Official Lyric Video)\n",
    "            #\"https://www.youtube.com/watch?v=PK9ruiebkys\",  # Yeat - ''Money so big'' (Up 2 Me)\n",
    "            #\"https://www.youtube.com/watch?v=879ysA4h9r4\",  # laura les - Haunted {OFFICIAL MUSIC VIDEO}\n",
    "            #\"https://www.youtube.com/watch?v=K69tbUo3vGs\",  # pour pere: ost fellowship of the ring\n",
    "            #\"https://www.youtube.com/watch?v=VELQfOcreYI\",  # Mama Mama Sem Parar-(sped up//nightcore)\n",
    "            #\"https://www.youtube.com/watch?v=r-hsZh0A0Yc\",  # xoxo remix\n",
    "            #\"https://www.youtube.com/watch?v=edP0L6LQzZE\",  # take it off ke$ha\n",
    "            #\"https://www.youtube.com/watch?v=YBHQbu5rbdQ\",  # worth it\n",
    "            #\"https://www.youtube.com/watch?v=ICxrcDJlX44\",  # ПЕСЕНКА ПРО ВРЕМЯ ⏱ Пой с Машей! 🎙 Маша и Медведь\n",
    "            #\"https://www.youtube.com/watch?v=VhyyK-MnK_4\",  # ENHYPEN - Drunk-Dazed「Audio」\n",
    "            #\"https://www.youtube.com/watch?v=Gqz8A6o-OAo\",  # Consoul Trainin feat. Steven Aderinto, DuoViolins - Obsession\n",
    "            #\"https://www.youtube.com/watch?v=ZT0aOrjIcVE\",  # Jamie Duffy - Solas (Official Video)\n",
    "            # \"https://www.youtube.com/watch?v=CahOLfYxiq0\",  # Lord of the Rings | Middle Earth Music & Ambience, 3 Hours\n",
    "            # \"https://www.youtube.com/watch?v=G9IQSJz__tI\", # Classical and Orchestral Film Music\n",
    "            \"https://www.youtube.com/watch?v=m5qXr9lLdwA\", # il est ou le bonheur\n",
    "           ]"
   ]
  },
  {
   "cell_type": "code",
   "execution_count": 4,
   "id": "7182b8d8-39c1-4e8a-8399-0524445963c3",
   "metadata": {
    "tags": []
   },
   "outputs": [
    {
     "name": "stdout",
     "output_type": "stream",
     "text": [
      "<Stream: itag=\"18\" mime_type=\"video/mp4\" res=\"360p\" fps=\"30fps\" vcodec=\"avc1.42001E\" acodec=\"mp4a.40.2\" progressive=\"True\" type=\"video\">\n",
      "<Stream: itag=\"22\" mime_type=\"video/mp4\" res=\"720p\" fps=\"30fps\" vcodec=\"avc1.64001F\" acodec=\"mp4a.40.2\" progressive=\"True\" type=\"video\">\n",
      "<Stream: itag=\"137\" mime_type=\"video/mp4\" res=\"1080p\" fps=\"30fps\" vcodec=\"avc1.640028\" progressive=\"False\" type=\"video\">\n",
      "<Stream: itag=\"248\" mime_type=\"video/webm\" res=\"1080p\" fps=\"30fps\" vcodec=\"vp9\" progressive=\"False\" type=\"video\">\n",
      "<Stream: itag=\"136\" mime_type=\"video/mp4\" res=\"720p\" fps=\"30fps\" vcodec=\"avc1.4d401f\" progressive=\"False\" type=\"video\">\n",
      "<Stream: itag=\"247\" mime_type=\"video/webm\" res=\"720p\" fps=\"30fps\" vcodec=\"vp9\" progressive=\"False\" type=\"video\">\n",
      "<Stream: itag=\"135\" mime_type=\"video/mp4\" res=\"480p\" fps=\"30fps\" vcodec=\"avc1.4d401f\" progressive=\"False\" type=\"video\">\n",
      "<Stream: itag=\"244\" mime_type=\"video/webm\" res=\"480p\" fps=\"30fps\" vcodec=\"vp9\" progressive=\"False\" type=\"video\">\n",
      "<Stream: itag=\"134\" mime_type=\"video/mp4\" res=\"360p\" fps=\"30fps\" vcodec=\"avc1.4d401e\" progressive=\"False\" type=\"video\">\n",
      "<Stream: itag=\"243\" mime_type=\"video/webm\" res=\"360p\" fps=\"30fps\" vcodec=\"vp9\" progressive=\"False\" type=\"video\">\n",
      "<Stream: itag=\"133\" mime_type=\"video/mp4\" res=\"240p\" fps=\"30fps\" vcodec=\"avc1.4d4015\" progressive=\"False\" type=\"video\">\n",
      "<Stream: itag=\"242\" mime_type=\"video/webm\" res=\"240p\" fps=\"30fps\" vcodec=\"vp9\" progressive=\"False\" type=\"video\">\n",
      "<Stream: itag=\"160\" mime_type=\"video/mp4\" res=\"144p\" fps=\"30fps\" vcodec=\"avc1.4d400c\" progressive=\"False\" type=\"video\">\n",
      "<Stream: itag=\"278\" mime_type=\"video/webm\" res=\"144p\" fps=\"30fps\" vcodec=\"vp9\" progressive=\"False\" type=\"video\">\n",
      "<Stream: itag=\"139\" mime_type=\"audio/mp4\" abr=\"48kbps\" acodec=\"mp4a.40.5\" progressive=\"False\" type=\"audio\">\n",
      "<Stream: itag=\"140\" mime_type=\"audio/mp4\" abr=\"128kbps\" acodec=\"mp4a.40.2\" progressive=\"False\" type=\"audio\">\n",
      "<Stream: itag=\"249\" mime_type=\"audio/webm\" abr=\"50kbps\" acodec=\"opus\" progressive=\"False\" type=\"audio\">\n",
      "<Stream: itag=\"250\" mime_type=\"audio/webm\" abr=\"70kbps\" acodec=\"opus\" progressive=\"False\" type=\"audio\">\n",
      "<Stream: itag=\"251\" mime_type=\"audio/webm\" abr=\"160kbps\" acodec=\"opus\" progressive=\"False\" type=\"audio\">\n",
      "<Stream: itag=\"18\" mime_type=\"video/mp4\" res=\"360p\" fps=\"25fps\" vcodec=\"avc1.42001E\" acodec=\"mp4a.40.2\" progressive=\"True\" type=\"video\">\n",
      "<Stream: itag=\"22\" mime_type=\"video/mp4\" res=\"720p\" fps=\"25fps\" vcodec=\"avc1.64001F\" acodec=\"mp4a.40.2\" progressive=\"True\" type=\"video\">\n",
      "<Stream: itag=\"137\" mime_type=\"video/mp4\" res=\"1080p\" fps=\"25fps\" vcodec=\"avc1.640028\" progressive=\"False\" type=\"video\">\n",
      "<Stream: itag=\"248\" mime_type=\"video/webm\" res=\"1080p\" fps=\"25fps\" vcodec=\"vp9\" progressive=\"False\" type=\"video\">\n",
      "<Stream: itag=\"136\" mime_type=\"video/mp4\" res=\"720p\" fps=\"25fps\" vcodec=\"avc1.4d401f\" progressive=\"False\" type=\"video\">\n",
      "<Stream: itag=\"247\" mime_type=\"video/webm\" res=\"720p\" fps=\"25fps\" vcodec=\"vp9\" progressive=\"False\" type=\"video\">\n",
      "<Stream: itag=\"135\" mime_type=\"video/mp4\" res=\"480p\" fps=\"25fps\" vcodec=\"avc1.4d401e\" progressive=\"False\" type=\"video\">\n",
      "<Stream: itag=\"244\" mime_type=\"video/webm\" res=\"480p\" fps=\"25fps\" vcodec=\"vp9\" progressive=\"False\" type=\"video\">\n",
      "<Stream: itag=\"134\" mime_type=\"video/mp4\" res=\"360p\" fps=\"25fps\" vcodec=\"avc1.4d401e\" progressive=\"False\" type=\"video\">\n",
      "<Stream: itag=\"243\" mime_type=\"video/webm\" res=\"360p\" fps=\"25fps\" vcodec=\"vp9\" progressive=\"False\" type=\"video\">\n",
      "<Stream: itag=\"133\" mime_type=\"video/mp4\" res=\"240p\" fps=\"25fps\" vcodec=\"avc1.4d4015\" progressive=\"False\" type=\"video\">\n",
      "<Stream: itag=\"242\" mime_type=\"video/webm\" res=\"240p\" fps=\"25fps\" vcodec=\"vp9\" progressive=\"False\" type=\"video\">\n",
      "<Stream: itag=\"160\" mime_type=\"video/mp4\" res=\"144p\" fps=\"25fps\" vcodec=\"avc1.4d400c\" progressive=\"False\" type=\"video\">\n",
      "<Stream: itag=\"278\" mime_type=\"video/webm\" res=\"144p\" fps=\"25fps\" vcodec=\"vp9\" progressive=\"False\" type=\"video\">\n",
      "<Stream: itag=\"139\" mime_type=\"audio/mp4\" abr=\"48kbps\" acodec=\"mp4a.40.5\" progressive=\"False\" type=\"audio\">\n",
      "<Stream: itag=\"140\" mime_type=\"audio/mp4\" abr=\"128kbps\" acodec=\"mp4a.40.2\" progressive=\"False\" type=\"audio\">\n",
      "<Stream: itag=\"249\" mime_type=\"audio/webm\" abr=\"50kbps\" acodec=\"opus\" progressive=\"False\" type=\"audio\">\n",
      "<Stream: itag=\"250\" mime_type=\"audio/webm\" abr=\"70kbps\" acodec=\"opus\" progressive=\"False\" type=\"audio\">\n",
      "<Stream: itag=\"251\" mime_type=\"audio/webm\" abr=\"160kbps\" acodec=\"opus\" progressive=\"False\" type=\"audio\">\n"
     ]
    }
   ],
   "source": [
    "for url_str in url_list:\n",
    "    url_youtube = pytube.YouTube(url_str)\n",
    "    for el in url_youtube.streams:\n",
    "        print(el)"
   ]
  },
  {
   "cell_type": "code",
   "execution_count": 8,
   "id": "5afba71d-b14d-4a90-8df2-ed97cc28a3a5",
   "metadata": {
    "tags": []
   },
   "outputs": [
    {
     "name": "stdout",
     "output_type": "stream",
     "text": [
      "Il est où le bonheur; stream tag = 22\n"
     ]
    },
    {
     "data": {
      "text/plain": [
       "'C:\\\\Users\\\\pestu\\\\projets\\\\mynetwork\\\\Il est où le bonheur.mp4'"
      ]
     },
     "execution_count": 8,
     "metadata": {},
     "output_type": "execute_result"
    }
   ],
   "source": [
    "itag = 22\n",
    "print(f'{url_youtube.vid_info[\"videoDetails\"][\"title\"]}; stream tag = {itag}')\n",
    "video = url_youtube.streams.get_by_itag(itag)\n",
    "filename = url_youtube.vid_info[\"videoDetails\"][\"title\"]\n",
    "filename = filename.replace('|', '-')\n",
    "filename = filename.replace('/', '')\n",
    "filename = filename.replace('\\\\', '')\n",
    "video.download(\"\", filename=f'{filename}.mp4')"
   ]
  },
  {
   "cell_type": "code",
   "execution_count": null,
   "id": "2be72aa2-90cf-4049-b4ab-eca8f5922f48",
   "metadata": {},
   "outputs": [],
   "source": []
  },
  {
   "cell_type": "code",
   "execution_count": 18,
   "id": "23c28d46-8321-4cfc-b398-a52af45c3f1b",
   "metadata": {
    "tags": []
   },
   "outputs": [],
   "source": [
    "for url_str in url_list:\n",
    "    url_youtube = pytube.YouTube(url_str)\n",
    "    for el in url_youtube.streams:\n",
    "        if el.mime_type.lower() == \"video/3gpp\":\n",
    "            itag  = int(el.itag)\n",
    "            print(f'{url_youtube.vid_info[\"videoDetails\"][\"title\"]}; stream tag = {itag}')\n",
    "            video = url_youtube.streams.get_by_itag(itag)\n",
    "            filename = url_youtube.vid_info[\"videoDetails\"][\"title\"]\n",
    "            filename = filename.replace('|', '-')\n",
    "            filename = filename.replace('/', '')\n",
    "            filename = filename.replace('\\\\', '')\n",
    "            video.download(\"\", filename=f'{filename}.3gpp')\n",
    "            convert2mp3(f'{filename}.3gpp', f'{filename}.mp3')"
   ]
  },
  {
   "cell_type": "code",
   "execution_count": 19,
   "id": "2c66b778-d164-44cc-97bb-87679e615cd2",
   "metadata": {},
   "outputs": [
    {
     "name": "stdout",
     "output_type": "stream",
     "text": [
      "Collecting pytube\n",
      "  Using cached pytube-15.0.0-py3-none-any.whl (57 kB)\n",
      "Installing collected packages: pytube\n",
      "Successfully installed pytube-15.0.0\n"
     ]
    },
    {
     "name": "stderr",
     "output_type": "stream",
     "text": [
      "\n",
      "[notice] A new release of pip available: 22.3.1 -> 23.3.2\n",
      "[notice] To update, run: python.exe -m pip install --upgrade pip\n"
     ]
    }
   ],
   "source": [
    "!pip3 install pytube"
   ]
  }
 ],
 "metadata": {
  "kernelspec": {
   "display_name": "Python 3 (ipykernel)",
   "language": "python",
   "name": "python3"
  },
  "language_info": {
   "codemirror_mode": {
    "name": "ipython",
    "version": 3
   },
   "file_extension": ".py",
   "mimetype": "text/x-python",
   "name": "python",
   "nbconvert_exporter": "python",
   "pygments_lexer": "ipython3",
   "version": "3.11.2"
  }
 },
 "nbformat": 4,
 "nbformat_minor": 5
}
