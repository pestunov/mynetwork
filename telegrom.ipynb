{
 "cells": [
  {
   "cell_type": "code",
   "execution_count": 1,
   "id": "43271c16-e688-4b19-b09d-3a55248bdea5",
   "metadata": {
    "tags": []
   },
   "outputs": [],
   "source": [
    "# noshebang !pip install pytelegrambotapi\n",
    "import telebot\n",
    "import mysecure"
   ]
  },
  {
   "cell_type": "code",
   "execution_count": 3,
   "id": "61b8c667-9a96-45bc-8eb9-a01785954e0a",
   "metadata": {
    "tags": []
   },
   "outputs": [],
   "source": [
    "bot = telebot.TeleBot(mysecure.MY_TELEBOT_ID)"
   ]
  },
  {
   "cell_type": "code",
   "execution_count": 6,
   "id": "33f58640-ffe7-44f4-ad6e-dbc84ef5fd2e",
   "metadata": {
    "tags": []
   },
   "outputs": [
    {
     "data": {
      "text/plain": [
       "<telebot.types.Message at 0x20cecf086d0>"
      ]
     },
     "execution_count": 6,
     "metadata": {},
     "output_type": "execute_result"
    }
   ],
   "source": [
    "#bot.send_message(-1001935278377, 'Нажми')\n",
    "bot.send_photo(-1001935278377, photo=open('meteo.png', 'rb'))"
   ]
  },
  {
   "cell_type": "code",
   "execution_count": null,
   "id": "a26caf99-22d9-49ba-94c5-2f3a32d34ccf",
   "metadata": {
    "tags": []
   },
   "outputs": [],
   "source": [
    "@bot.message_handler(content_types=[\"text\"])\n",
    "def handle_text(message):\n",
    "    if (message.text.strip() == 'open gh'):\n",
    "        print('openin green houses door')\n",
    "    elif (message.text.strip() == 'w'):\n",
    "        print('send meteo')\n",
    "        bot.send_photo(-1001935278377, photo=open('meteo.png', 'rb'))\n"
   ]
  },
  {
   "cell_type": "code",
   "execution_count": null,
   "id": "9fba96fc-25c5-42a7-93fa-e1318916d2b5",
   "metadata": {
    "tags": []
   },
   "outputs": [],
   "source": [
    "while(1):\n",
    "    try:\n",
    "        bot.polling(none_stop=True, interval=5, timeout=5)\n",
    "    except:\n",
    "        print('connection error')\n",
    "    "
   ]
  },
  {
   "cell_type": "code",
   "execution_count": 1,
   "id": "c2188f30-c0a6-4a83-ab3c-3954e3500a2d",
   "metadata": {
    "tags": []
   },
   "outputs": [
    {
     "ename": "NameError",
     "evalue": "name 'bot' is not defined",
     "output_type": "error",
     "traceback": [
      "\u001b[1;31m---------------------------------------------------------------------------\u001b[0m",
      "\u001b[1;31mNameError\u001b[0m                                 Traceback (most recent call last)",
      "Cell \u001b[1;32mIn[1], line 1\u001b[0m\n\u001b[1;32m----> 1\u001b[0m \u001b[43mbot\u001b[49m\u001b[38;5;241m.\u001b[39mclose()\n",
      "\u001b[1;31mNameError\u001b[0m: name 'bot' is not defined"
     ]
    }
   ],
   "source": [
    "bot.close()"
   ]
  },
  {
   "cell_type": "code",
   "execution_count": 5,
   "id": "539ffc54-c049-4b8d-8e3b-b295400c6f57",
   "metadata": {},
   "outputs": [
    {
     "data": {
      "text/plain": [
       "<telebot.types.Message at 0x20ce98e1f10>"
      ]
     },
     "execution_count": 5,
     "metadata": {},
     "output_type": "execute_result"
    }
   ],
   "source": [
    "bot.send_message(-1001935278377, text='meteo.png')"
   ]
  },
  {
   "cell_type": "code",
   "execution_count": null,
   "id": "07fcff06-583a-46e1-89d0-6088f9ca237d",
   "metadata": {},
   "outputs": [],
   "source": []
  },
  {
   "cell_type": "code",
   "execution_count": null,
   "id": "0a695619-d895-4847-b189-3138f66be452",
   "metadata": {},
   "outputs": [],
   "source": []
  }
 ],
 "metadata": {
  "kernelspec": {
   "display_name": "Python 3 (ipykernel)",
   "language": "python",
   "name": "python3"
  },
  "language_info": {
   "codemirror_mode": {
    "name": "ipython",
    "version": 3
   },
   "file_extension": ".py",
   "mimetype": "text/x-python",
   "name": "python",
   "nbconvert_exporter": "python",
   "pygments_lexer": "ipython3",
   "version": "3.11.2"
  }
 },
 "nbformat": 4,
 "nbformat_minor": 5
}
