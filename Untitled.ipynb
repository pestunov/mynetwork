{
 "cells": [
  {
   "cell_type": "code",
   "execution_count": null,
   "id": "760ceea7-9148-493c-ba8b-85d9c79fcc29",
   "metadata": {
    "tags": []
   },
   "outputs": [],
   "source": [
    "import socket\n",
    "import json\n",
    "import re"
   ]
  },
  {
   "cell_type": "code",
   "execution_count": null,
   "id": "7a7daf3f-f124-4c7c-81cd-90909a6ec2b0",
   "metadata": {
    "tags": []
   },
   "outputs": [],
   "source": [
    "s = socket.socket(socket.AF_INET, socket.SOCK_DGRAM)\n",
    "s.setsockopt(socket.SOL_SOCKET, socket.SO_REUSEADDR, 1)\n",
    "s.bind(('', 33333))\n",
    "s.settimeout(1)"
   ]
  },
  {
   "cell_type": "code",
   "execution_count": null,
   "id": "70719406-717a-4be8-b8ab-be0a06b2c7de",
   "metadata": {
    "tags": []
   },
   "outputs": [],
   "source": [
    "message, address = s.recvfrom(1024)\n",
    "print(message, address)\n",
    "d = message.decode('utf-8').replace(\"'\", \"\\\"\")\n",
    "print(d)\n",
    "d = re.sub(\"[,]\\s[}]\", '}', d)\n",
    "print(d)\n",
    "d = json.loads(d)\n",
    "print(type(d))\n"
   ]
  },
  {
   "cell_type": "code",
   "execution_count": null,
   "id": "e77bd24c-7018-4f7a-b414-d71f7f798c39",
   "metadata": {
    "tags": []
   },
   "outputs": [],
   "source": [
    "s.sendto(b\"01200120\", address)"
   ]
  },
  {
   "cell_type": "code",
   "execution_count": null,
   "id": "b26b1a67-b613-408f-8d2e-5a756f73996d",
   "metadata": {
    "tags": []
   },
   "outputs": [],
   "source": [
    "while(1):\n",
    "    try:\n",
    "        message, address = s.recvfrom(1024)\n",
    "        d = message.decode('utf-8').replace(\"'\", \"\\\"\")\n",
    "        d = re.sub(\"[,]\\s[}]\", '}', d)  # remove \n",
    "        d = json.loads(d)\n",
    "        print(d['button_state'], end='')\n",
    "    except TimeoutError:\n",
    "        print('.', end='')\n",
    "\n"
   ]
  },
  {
   "cell_type": "code",
   "execution_count": null,
   "id": "9d4c3bba-c324-43f8-8d32-50b9e3e5ae42",
   "metadata": {},
   "outputs": [],
   "source": []
  },
  {
   "cell_type": "code",
   "execution_count": null,
   "id": "cc872d35-6a2d-4ef9-9bf6-8a8955f16d2b",
   "metadata": {},
   "outputs": [],
   "source": []
  },
  {
   "cell_type": "code",
   "execution_count": null,
   "id": "b9cdca3a-29da-4b7f-950e-e0c12593dbab",
   "metadata": {
    "tags": []
   },
   "outputs": [],
   "source": [
    "s.close()"
   ]
  },
  {
   "cell_type": "code",
   "execution_count": 11,
   "id": "5761722f-df0c-4da3-ab49-9e7a03b19b25",
   "metadata": {},
   "outputs": [
    {
     "data": {
      "text/plain": [
       "{'a': [0, 1, 2, 3, 4], 'b': [0, 1, 2, 3, 4], 'c': [0, 1, 2, 3, 4]}"
      ]
     },
     "execution_count": 11,
     "metadata": {},
     "output_type": "execute_result"
    }
   ],
   "source": [
    "d = {}\n",
    "for i in 'abc':\n",
    "    d[i] = [x for x in range(5)]\n",
    "d"
   ]
  },
  {
   "cell_type": "code",
   "execution_count": 10,
   "id": "1cd742ee-73f7-4c44-ad1e-8539e9c81227",
   "metadata": {
    "tags": []
   },
   "outputs": [
    {
     "data": {
      "text/plain": [
       "{1: ['a', 'b', 'c'],\n",
       " 'a': [0, 1, 2, 3, 4],\n",
       " 'b': [0, 1, 2, 3, 4],\n",
       " 'c': [0, 1, 2, 3, 4]}"
      ]
     },
     "execution_count": 10,
     "metadata": {},
     "output_type": "execute_result"
    }
   ],
   "source": [
    "d"
   ]
  },
  {
   "cell_type": "code",
   "execution_count": 16,
   "id": "67d8bedb-cb08-456b-a0d8-2b2196f14ac6",
   "metadata": {
    "tags": []
   },
   "outputs": [
    {
     "data": {
      "text/plain": [
       "{0: [0.8, 0.98, 0.18, 0.63, 0.89, 0.65],\n",
       " 1: [0.24, 0.69, 0.9, 0.98, 0.04, 0.41],\n",
       " 2: [0.0, 0.66, 0.97, 0.11, 0.21, 0.68],\n",
       " 3: [1.0, 0.74, 0.6, 0.13, 0.51, 0.51]}"
      ]
     },
     "execution_count": 16,
     "metadata": {},
     "output_type": "execute_result"
    }
   ],
   "source": [
    "from random import randint as rand\n",
    "NIN = 4\n",
    "NOUT = 6\n",
    "mymind = {}\n",
    "for i in range(NIN):\n",
    "    mymind[i] = [rand(0, 100)/100 for _ in range(NOUT)]\n",
    "mymind"
   ]
  },
  {
   "cell_type": "code",
   "execution_count": 19,
   "id": "f7089027-71ca-40b9-88af-77396357422d",
   "metadata": {
    "tags": []
   },
   "outputs": [
    {
     "name": "stdout",
     "output_type": "stream",
     "text": [
      "0\n",
      "1\n",
      "2\n",
      "3\n",
      "dict_keys([0, 1, 2, 3])\n"
     ]
    }
   ],
   "source": [
    "def func(m):\n",
    "    for i in m.keys():\n",
    "        print(i)\n",
    "        \n",
    "    \n",
    "\n",
    "func(mymind)"
   ]
  },
  {
   "cell_type": "code",
   "execution_count": null,
   "id": "5d418f07-8f24-41bb-86dc-0d6822718bd5",
   "metadata": {},
   "outputs": [],
   "source": [
    "\n"
   ]
  }
 ],
 "metadata": {
  "kernelspec": {
   "display_name": "Python 3 (ipykernel)",
   "language": "python",
   "name": "python3"
  },
  "language_info": {
   "codemirror_mode": {
    "name": "ipython",
    "version": 3
   },
   "file_extension": ".py",
   "mimetype": "text/x-python",
   "name": "python",
   "nbconvert_exporter": "python",
   "pygments_lexer": "ipython3",
   "version": "3.11.2"
  }
 },
 "nbformat": 4,
 "nbformat_minor": 5
}
