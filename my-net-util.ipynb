{
 "cells": [
  {
   "cell_type": "code",
   "execution_count": null,
   "id": "d7256921-a343-4110-b743-d1d56a8d3d0f",
   "metadata": {
    "tags": []
   },
   "outputs": [],
   "source": [
    "import socket"
   ]
  },
  {
   "cell_type": "code",
   "execution_count": null,
   "id": "26c1831f-f084-4488-b0ae-c60b646189a7",
   "metadata": {
    "tags": []
   },
   "outputs": [],
   "source": [
    "def get_my_ip():\n",
    "    s = socket.socket(socket.AF_INET, socket.SOCK_DGRAM)\n",
    "    s.settimeout(0)\n",
    "    try:\n",
    "        # doesn't even have to be reachable\n",
    "        s.connect(('10.254.254.254', 1))\n",
    "        IP = s.getsockname()[0]\n",
    "    except Exception:\n",
    "        IP = '127.0.0.1'\n",
    "    finally:\n",
    "        s.close()\n",
    "    return IP\n"
   ]
  },
  {
   "cell_type": "code",
   "execution_count": null,
   "id": "3bf9244e-3d1c-4066-95db-7e664638a40d",
   "metadata": {
    "tags": []
   },
   "outputs": [],
   "source": [
    "# main routine\n",
    "\n",
    "print(f\"my local IP is: {get_my_ip()}\")"
   ]
  },
  {
   "cell_type": "code",
   "execution_count": null,
   "id": "5fdeb14c-8994-4500-a248-a5c85bb3f166",
   "metadata": {
    "tags": []
   },
   "outputs": [],
   "source": [
    "socket.gethostbyaddr(\"192.168.0.1\")"
   ]
  },
  {
   "cell_type": "code",
   "execution_count": null,
   "id": "48d3c70c-5dba-428f-902f-0ea9c0c5691c",
   "metadata": {
    "tags": []
   },
   "outputs": [],
   "source": [
    "s = socket.socket(socket.AF_INET, socket.SOCK_DGRAM)\n",
    "s.settimeout(1)\n",
    "s.connect((\"localhost\", 1))\n",
    "s.getsockname()"
   ]
  },
  {
   "cell_type": "code",
   "execution_count": null,
   "id": "1ecf108d-851d-4d28-a427-b2939f4ad11c",
   "metadata": {
    "tags": []
   },
   "outputs": [],
   "source": [
    "import socket\n",
    "from datetime import datetime"
   ]
  },
  {
   "cell_type": "code",
   "execution_count": null,
   "id": "69aa657d-56e1-4c5a-8756-3f4cb87b06fb",
   "metadata": {
    "tags": []
   },
   "outputs": [],
   "source": [
    "net = \"192.168.48.0\"\n",
    "net1 = net.split('.')\n",
    "a = '.'\n",
    "\n",
    "net2 = net1[0] + a + net1[1] + a + net1[2] + a\n",
    "st1 = 0\n",
    "en1 = 255\n",
    "en1 = en1 + 1\n",
    "t1 = datetime.now()"
   ]
  },
  {
   "cell_type": "code",
   "execution_count": null,
   "id": "1beed928-a930-4678-90b6-3bb222fdfcca",
   "metadata": {
    "tags": []
   },
   "outputs": [],
   "source": [
    "def scan(addr):\n",
    "    s = socket.socket(socket.AF_INET,socket.SOCK_STREAM)\n",
    "    socket.setdefaulttimeout(1)\n",
    "    result = s.connect_ex((addr, 1000))\n",
    "    if result == 0:\n",
    "        return 1\n",
    "    else:\n",
    "        return 0\n",
    "\n",
    "def run1():\n",
    "    for ip in range(st1,en1):\n",
    "        addr = net2 + str(ip)\n",
    "        if (scan(addr)):\n",
    "            print(addr , \"is live\")\n",
    "        else:\n",
    "            print(f\"{addr} not alive\")"
   ]
  },
  {
   "cell_type": "code",
   "execution_count": null,
   "id": "df3f2b31-44c9-4b0a-a77c-fe7803c0c97a",
   "metadata": {
    "tags": []
   },
   "outputs": [],
   "source": [
    "  \n",
    "run1()\n",
    "t2 = datetime.now()\n",
    "total = t2 - t1\n",
    "print (\"Scanning completed in: \" , total)\n"
   ]
  },
  {
   "cell_type": "code",
   "execution_count": null,
   "id": "a7efd012-1b60-4aaf-b6fd-e5f3b3c216b2",
   "metadata": {
    "tags": []
   },
   "outputs": [],
   "source": [
    "!ping 192.168.53.2"
   ]
  },
  {
   "cell_type": "code",
   "execution_count": null,
   "id": "df6ebb3c-91a5-41c2-bf82-7abedc832d2a",
   "metadata": {},
   "outputs": [],
   "source": []
  }
 ],
 "metadata": {
  "kernelspec": {
   "display_name": "Python 3 (ipykernel)",
   "language": "python",
   "name": "python3"
  },
  "language_info": {
   "codemirror_mode": {
    "name": "ipython",
    "version": 3
   },
   "file_extension": ".py",
   "mimetype": "text/x-python",
   "name": "python",
   "nbconvert_exporter": "python",
   "pygments_lexer": "ipython3",
   "version": "3.11.2"
  }
 },
 "nbformat": 4,
 "nbformat_minor": 5
}
